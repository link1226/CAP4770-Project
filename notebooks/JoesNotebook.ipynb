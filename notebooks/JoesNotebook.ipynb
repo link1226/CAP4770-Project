{
 "cells": [
  {
   "cell_type": "code",
   "execution_count": 3,
   "id": "initial_id",
   "metadata": {},
   "outputs": [
    {
     "name": "stdout",
     "output_type": "stream",
     "text": [
      "                                                title  \\\n",
      "id                                                      \n",
      "1   LAW ENFORCEMENT ON HIGH ALERT Following Threat...   \n",
      "2                                                None   \n",
      "3   UNBELIEVABLE! OBAMA’S ATTORNEY GENERAL SAYS MO...   \n",
      "4   Bobby Jindal, raised Hindu, uses story of Chri...   \n",
      "5   SATAN 2: Russia unvelis an image of its terrif...   \n",
      "\n",
      "                                                 text label  \n",
      "id                                                           \n",
      "1   No comment is expected from Barack Obama Membe...     1  \n",
      "2      Did they post their votes for Hillary already?     1  \n",
      "3    Now, most of the demonstrators gathered last ...     1  \n",
      "4   A dozen politically active pastors came here f...     0  \n",
      "5   The RS-28 Sarmat missile, dubbed Satan 2, will...     1  \n"
     ]
    }
   ],
   "source": [
    "# Test\n",
    "import pandas as pd\n",
    "import sqlite3\n",
    "\n",
    "conn = sqlite3.connect(\"../WELFake_Dataset.db\")\n",
    "df = pd.read_sql(\"SELECT * FROM WELFake_Dataset\", conn,  index_col=\"id\")\n",
    "print(df.head())"
   ]
  },
  {
   "cell_type": "code",
   "execution_count": null,
   "id": "c45f6d6e-ac30-4c7f-ae76-c7be93e57238",
   "metadata": {},
   "outputs": [],
   "source": []
  }
 ],
 "metadata": {
  "kernelspec": {
   "display_name": "Python 3 (ipykernel)",
   "language": "python",
   "name": "python3"
  },
  "language_info": {
   "codemirror_mode": {
    "name": "ipython",
    "version": 3
   },
   "file_extension": ".py",
   "mimetype": "text/x-python",
   "name": "python",
   "nbconvert_exporter": "python",
   "pygments_lexer": "ipython3",
   "version": "3.10.18"
  }
 },
 "nbformat": 4,
 "nbformat_minor": 5
}
